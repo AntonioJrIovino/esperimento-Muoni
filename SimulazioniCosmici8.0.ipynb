{
 "cells": [
  {
   "cell_type": "markdown",
   "metadata": {},
   "source": [
    "# Simulazione di Rate di Muoni cosmici"
   ]
  },
  {
   "cell_type": "markdown",
   "metadata": {},
   "source": [
    "In questa simulazione ci occuperemo di studiare il rate R di un flusso di muoni cosmici che impatta su un sistema di due scintillatori:"
   ]
  },
  {
   "cell_type": "markdown",
   "metadata": {},
   "source": [
    "Supponiamo che ai nostri rivelatori giunga soltanto la parte dura del flusso di raggi cosmici secondari, ovvero i muoni. Questa condizione può essere verificata inserendo un materiale assorbitore prima del primo rivelatore.\n",
    "I raggi cosmici hanno una distribuzione angolare rispetto alla normale alla superficie della Terra descrivibile\n",
    "dalla funzione:\n",
    "$ f(theta) \\propto  cos^2(\\theta) $"
   ]
  },
  {
   "cell_type": "markdown",
   "metadata": {},
   "source": [
    "## Librerie da importare"
   ]
  },
  {
   "cell_type": "code",
   "execution_count": 1,
   "metadata": {},
   "outputs": [],
   "source": [
    "%matplotlib notebook \n",
    "import numpy as np\n",
    "import matplotlib.pyplot as plt\n",
    "import math\n",
    "import numpy.random as rnd\n",
    "%matplotlib inline "
   ]
  },
  {
   "cell_type": "markdown",
   "metadata": {},
   "source": [
    "## Generazione iniziale"
   ]
  },
  {
   "cell_type": "markdown",
   "metadata": {},
   "source": [
    "Generiamo 100000 Muoni che impattano sulla superficie del primo rivelatore con un angolo theta distribuito come sopra, e x, y  e phi (angolo  sul piano del rivelatore) distribuiti in modo uniforme."
   ]
  },
  {
   "cell_type": "code",
   "execution_count": 26,
   "metadata": {},
   "outputs": [
    {
     "name": "stdout",
     "output_type": "stream",
     "text": [
      "[[ 0.83346261 18.187472    4.97015718  0.4978122 ]\n",
      " [ 0.21498268  6.76544528  5.6438204   0.06549135]\n",
      " [ 2.09511365  1.02518182  4.75187873  0.66894268]\n",
      " ...\n",
      " [ 1.06712102  2.7862593   0.64560893  1.1320689 ]\n",
      " [ 8.18199391 19.89543809  4.97057758  1.0580209 ]\n",
      " [ 5.07927612  9.066674    5.30519572  0.07186751]]\n"
     ]
    }
   ],
   "source": [
    "Nmuon= 1000000\n",
    "X = 10 #Cm\n",
    "Y = 22 #Cm\n",
    "\n",
    "#scriviamo la funzione di distribuzione\n",
    "def F(t):\n",
    "     return np.cos(t)*np.cos(t)\n",
    "\n",
    "#cord() genera le coordinate casuali di un evento\n",
    "\n",
    "def cord():\n",
    "    x= rnd.uniform(0, X)\n",
    "    y= rnd.uniform(0, Y)\n",
    "    phi= rnd.uniform(0, 2*np.pi)\n",
    "      #qui generiamo theta\n",
    "    ##per generare theta procediamo nel seguente modo (hit or miss), generiamo theta ed f di theta in modo uniforme \n",
    "    ##nel loro intervallo di definizione,se ftheta è minore di Ftheta ovvero valore ottenuto da formula con theta \n",
    "    ##generato casualmente allora prendiamo theta altrimenti rifacciamo tutto\n",
    "    theta= rnd.uniform(0, np.pi*0.5)\n",
    "    ftheta= rnd.uniform(0,1)\n",
    "    while ftheta > F(theta):\n",
    "        theta= rnd.uniform(0, np.pi*0.5)\n",
    "        ftheta= rnd.uniform(0, 1)\n",
    "    cord = np.array( [x,y, phi, theta] )\n",
    "    return cord \n",
    "\n",
    "\n",
    "\n",
    "#generiamo gli Nmuon incidenti\n",
    "\n",
    "inc1=np.array([cord() for i in range(Nmuon) ]) \n",
    "print(inc1)"
   ]
  },
  {
   "cell_type": "markdown",
   "metadata": {},
   "source": [
    "Verifichiamo che le particella siano distribuite correttamente:"
   ]
  },
  {
   "cell_type": "code",
   "execution_count": 4,
   "metadata": {},
   "outputs": [
    {
     "name": "stderr",
     "output_type": "stream",
     "text": [
      "<ipython-input-4-3255ac86f957>:10: UserWarning: FixedFormatter should only be used together with FixedLocator\n",
      "  axis0.set_xticklabels(['{:3.0f}'.format(x * 180/np.pi) for x in axis0.get_xticks()])\n"
     ]
    },
    {
     "data": {
      "text/plain": [
       "[Text(-0.2, 0, '-11'),\n",
       " Text(0.0, 0, '  0'),\n",
       " Text(0.2, 0, ' 11'),\n",
       " Text(0.4000000000000001, 0, ' 23'),\n",
       " Text(0.6000000000000001, 0, ' 34'),\n",
       " Text(0.8, 0, ' 46'),\n",
       " Text(1.0000000000000002, 0, ' 57'),\n",
       " Text(1.2000000000000002, 0, ' 69'),\n",
       " Text(1.4000000000000001, 0, ' 80'),\n",
       " Text(1.6, 0, ' 92'),\n",
       " Text(1.8, 0, '103')]"
      ]
     },
     "execution_count": 4,
     "metadata": {},
     "output_type": "execute_result"
    },
    {
     "data": {
      "image/png": "[encoded data removed]",
      "text/plain": [
       "<Figure size 432x288 with 1 Axes>"
      ]
     },
     "metadata": {
      "needs_background": "light"
     },
     "output_type": "display_data"
    }
   ],
   "source": [
    "fig0=plt.figure(0)\n",
    "axis0=fig0.add_subplot(111)\n",
    "n, bins, patches = axis0.hist(inc1[:,3], bins=50, rwidth=0.80)\n",
    "axis0.grid(True)\n",
    "y=F(bins)*n.max()\n",
    "axis0.plot(bins, y, '--')\n",
    "axis0.set_xlabel('Generated Angles (°)')\n",
    "axis0.set_ylabel('Frequency')\n",
    "axis0.set_title('Angles distribution')\n",
    "axis0.set_xticklabels(['{:3.0f}'.format(x * 180/np.pi) for x in axis0.get_xticks()])"
   ]
  },
  {
   "cell_type": "markdown",
   "metadata": {},
   "source": [
    "## Taglio geometrico e di efficienze"
   ]
  },
  {
   "cell_type": "markdown",
   "metadata": {},
   "source": [
    "A questo punto il nostro obiettivo diventa studiare quante delle particelle rivelate dal primo rivelatore impattano geometricamente sul secondo e ,nota l'efficienza del secondo, quante di queste vengono contate al secondo.\n",
    "Fissiamo i parametri liberi della simulazione (in seguito li modifichiamo):"
   ]
  },
  {
   "cell_type": "code",
   "execution_count": 3,
   "metadata": {},
   "outputs": [],
   "source": [
    "d=22 #distanza tra i due scintillatori in cm\n",
    "e1=0.74 #efficienza primo scintillatore\n",
    "e2=0.81#efficienza secondo scintillatore"
   ]
  },
  {
   "cell_type": "markdown",
   "metadata": {},
   "source": [
    "Contiamo i muoni che soddisfino le condizioni di rivelazione:"
   ]
  },
  {
   "cell_type": "code",
   "execution_count": 6,
   "metadata": {},
   "outputs": [
    {
     "name": "stdout",
     "output_type": "stream",
     "text": [
      "\n",
      "\n",
      "I muoni rivelati sono:  203622.99999999997 \n",
      "La frazione rivelata è:  0.20362299999999997\n",
      "Considerando un rate atteso di 1 muone per cm² al minuto il rate rivelato atteso è: 0.75 Hz\n"
     ]
    }
   ],
   "source": [
    "\n",
    "def rate(d, e1, e2, disx=0, disy=0):  #disx e disy sono i diseallineamenti tra i due scintillatori che saranno considerati in seguito\n",
    "    \n",
    "    #definiamo una funzione che calcoli le coordinate di impatto ad una distanza d dal rivelatore superiore\n",
    "    \n",
    "    def imp2(arr,d):\n",
    "        x2=arr[0]-d*np.cos(arr[2])*np.tan(arr[3])\n",
    "        y2=arr[1]-d*np.sin(arr[2])*np.tan(arr[3])   #arr[3] è la theta\n",
    "        return [x2,y2]\n",
    "\n",
    "    #costruiamo una matrice con le coordinate d'impatto sul secondo rivelatore\n",
    "\n",
    "    inc2=np.array([imp2(inc1[i,:],d) for i in range(Nmuon)])\n",
    "\n",
    "    #costruiamo due array con le probabilità di passaggio per ciascun rivelatore\n",
    "\n",
    "    pass1 = rnd.rand(Nmuon)\n",
    "    pass2 = rnd.rand(Nmuon)\n",
    "\n",
    "    #costruiamo una matrice che verifichi che tutte le 3 condizioni per la rivelazione siano soddisfatte\n",
    "    \n",
    "    count=np.array([pass1[i]<e1 and pass2[i]<e2 and (0+disx)<inc2[i,0]<(X+disx)\n",
    "                    and (0+disy)<inc2[i,1]<(Y+disy) for i in range(Nmuon)])\n",
    "\n",
    "    seen=count.sum()\n",
    "    frac=seen/Nmuon\n",
    "    exprate=X*Y/60\n",
    "    rate=exprate*frac\n",
    "    return rate\n",
    "\n",
    "testrate=rate(d,e1,e2)\n",
    "\n",
    "print(\"\\n\\nI muoni rivelati sono: \", testrate*60/(X*Y)*Nmuon, \"\\nLa frazione rivelata è: \", testrate*60/(X*Y) )\n",
    "print(\"Considerando un rate atteso di 1 muone per cm² al minuto il rate rivelato atteso è: \"+\"{0:.2f}\".format(testrate)+ \" Hz\")\n"
   ]
  },
  {
   "cell_type": "markdown",
   "metadata": {},
   "source": [
    "Stiamo assumendo che i Rivelatori siano posti al livello del mare dove il Rate atteso è di 1 muone al minuto per $cm^2$ (fonte: https://arxiv.org/pdf/1203.0101.pdf)."
   ]
  },
  {
   "cell_type": "markdown",
   "metadata": {},
   "source": [
    "## Grafici"
   ]
  },
  {
   "cell_type": "markdown",
   "metadata": {},
   "source": [
    "A questo punto andiamo a studiare in un grafico come varia il rate in funzione della distanza."
   ]
  },
  {
   "cell_type": "code",
   "execution_count": 6,
   "metadata": {},
   "outputs": [
    {
     "name": "stdout",
     "output_type": "stream",
     "text": [
      "[0.91463533 0.68368667 0.51827967 0.41036967 0.28059533 0.15352333]\n"
     ]
    }
   ],
   "source": [
    "#studiamo prima al variare di D e fissiamo e1 ed e2 #lasciamo come esempio quest'ultimo\n",
    "\n",
    "D= np.array([0, 5, 10, 15, 25, 50]) #Cm\n",
    "Rated1 = np.array([rate(dd, e1, e2) for dd in D])\n",
    "Rated2 = np.array([rate(dd, 1, 1) for dd in D])\n",
    "Rated3 = np.array([rate(dd, 0.5, 0.3) for dd in D])\n",
    "Rated4 = np.array([rate(dd, 0.5, 0.5) for dd in D])\n",
    "print(Rated4) "
   ]
  },
  {
   "cell_type": "markdown",
   "metadata": {},
   "source": [
    "Generiamo il grafico al variare di D."
   ]
  },
  {
   "cell_type": "code",
   "execution_count": 81,
   "metadata": {},
   "outputs": [
    {
     "data": {
      "image/png": "[encoded data removed]",
      "text/plain": [
       "<Figure size 432x288 with 1 Axes>"
      ]
     },
     "metadata": {
      "needs_background": "light"
     },
     "output_type": "display_data"
    }
   ],
   "source": [
    "plt.figure(1)\n",
    "plt.xlabel('D [cm]') \n",
    "plt.ylabel('R(d) [Hz]')\n",
    "plt.title(\"Rate as function of distance d between the two scintillators\")\n",
    "plt.plot(D, Rated1 , label= 'eff1 = 0.74, eff2 =0.81')\n",
    "plt.plot(D, Rated2 , label= 'eff1 = 1, eff2 =1')\n",
    "plt.plot(D, Rated3 , label= 'eff1 = 0.5, eff2 =0.3')\n",
    "plt.plot(D, Rated4 , label= 'eff1 = 0.5, eff2 =0.5')\n",
    "plt.legend()\n",
    "plt.show()"
   ]
  },
  {
   "cell_type": "code",
   "execution_count": 7,
   "metadata": {},
   "outputs": [
    {
     "ename": "NameError",
     "evalue": "name 'D' is not defined",
     "output_type": "error",
     "traceback": [
      "\u001b[0;31m---------------------------------------------------------------------------\u001b[0m",
      "\u001b[0;31mNameError\u001b[0m                                 Traceback (most recent call last)",
      "\u001b[0;32m<ipython-input-7-6a70541f109b>\u001b[0m in \u001b[0;36m<module>\u001b[0;34m\u001b[0m\n\u001b[1;32m     12\u001b[0m \u001b[0mplt\u001b[0m\u001b[0;34m.\u001b[0m\u001b[0merrorbar\u001b[0m\u001b[0;34m(\u001b[0m\u001b[0mdexp\u001b[0m\u001b[0;34m,\u001b[0m \u001b[0mrateexp\u001b[0m \u001b[0;34m,\u001b[0m \u001b[0mxerr\u001b[0m\u001b[0;34m=\u001b[0m\u001b[0mderr\u001b[0m\u001b[0;34m,\u001b[0m \u001b[0myerr\u001b[0m\u001b[0;34m=\u001b[0m\u001b[0mrateerr\u001b[0m\u001b[0;34m,\u001b[0m \u001b[0;34m)\u001b[0m\u001b[0;34m\u001b[0m\u001b[0;34m\u001b[0m\u001b[0m\n\u001b[1;32m     13\u001b[0m \u001b[0mplt\u001b[0m\u001b[0;34m.\u001b[0m\u001b[0mplot\u001b[0m\u001b[0;34m(\u001b[0m\u001b[0mdexp\u001b[0m\u001b[0;34m,\u001b[0m \u001b[0mrateexp\u001b[0m \u001b[0;34m,\u001b[0m \u001b[0mlabel\u001b[0m\u001b[0;34m=\u001b[0m \u001b[0;34m'exp'\u001b[0m\u001b[0;34m,\u001b[0m\u001b[0mcolor\u001b[0m\u001b[0;34m=\u001b[0m\u001b[0;34m'b'\u001b[0m\u001b[0;34m)\u001b[0m\u001b[0;34m\u001b[0m\u001b[0;34m\u001b[0m\u001b[0m\n\u001b[0;32m---> 14\u001b[0;31m \u001b[0mplt\u001b[0m\u001b[0;34m.\u001b[0m\u001b[0mplot\u001b[0m\u001b[0;34m(\u001b[0m\u001b[0mD\u001b[0m\u001b[0;34m,\u001b[0m \u001b[0mRated1\u001b[0m \u001b[0;34m,\u001b[0m \u001b[0mlabel\u001b[0m\u001b[0;34m=\u001b[0m \u001b[0;34m'sim'\u001b[0m\u001b[0;34m)\u001b[0m\u001b[0;34m\u001b[0m\u001b[0;34m\u001b[0m\u001b[0m\n\u001b[0m\u001b[1;32m     15\u001b[0m \u001b[0mplt\u001b[0m\u001b[0;34m.\u001b[0m\u001b[0mlegend\u001b[0m\u001b[0;34m(\u001b[0m\u001b[0;34m)\u001b[0m\u001b[0;34m\u001b[0m\u001b[0;34m\u001b[0m\u001b[0m\n\u001b[1;32m     16\u001b[0m \u001b[0mplt\u001b[0m\u001b[0;34m.\u001b[0m\u001b[0mshow\u001b[0m\u001b[0;34m(\u001b[0m\u001b[0;34m)\u001b[0m\u001b[0;34m\u001b[0m\u001b[0;34m\u001b[0m\u001b[0m\n",
      "\u001b[0;31mNameError\u001b[0m: name 'D' is not defined"
     ]
    },
    {
     "data": {
      "image/png": "[encoded data removed]",
      "text/plain": [
       "<Figure size 432x288 with 1 Axes>"
      ]
     },
     "metadata": {
      "needs_background": "light"
     },
     "output_type": "display_data"
    }
   ],
   "source": [
    "#confronto esperimento con simulazione\n",
    "\n",
    "dexp=np.array([1,10.5,12.5,17.5,22,32,47.5])\n",
    "rateexp=np.array([1.67, 0.62, 0.54, 0.29, 0.27, 0.20, 0.13])\n",
    "derr=np.array([0.05,0.05,0.05,0.05,0.05,0.05,0.05])\n",
    "rateerr=np.array([0.10,0.06,0.05,0.04,0.04,0.03,0.03])\n",
    "\n",
    "plt.figure(10)\n",
    "plt.xlabel('D [cm]') \n",
    "plt.ylabel('R(d) [Hz]')\n",
    "plt.title(\"Rate as function of distance: exp vs sim\")\n",
    "plt.errorbar(dexp, rateexp , xerr=derr, yerr=rateerr, )\n",
    "plt.plot(dexp, rateexp , label= 'exp',color='b')\n",
    "plt.plot(D, Rated1 , label= 'sim')\n",
    "plt.legend()\n",
    "plt.show()"
   ]
  },
  {
   "cell_type": "markdown",
   "metadata": {},
   "source": [
    "Vogliamo considerare gli effetti sul rate di un possibile disallineamento di un cm tra i due rivelatori in entrambe le direzioni x e y"
   ]
  },
  {
   "cell_type": "code",
   "execution_count": 83,
   "metadata": {},
   "outputs": [],
   "source": [
    "disx=2\n",
    "disy=2\n",
    "Rated1dis = np.array([rate(dd, 0.74, 0.81, disx, disy) for dd in D])"
   ]
  },
  {
   "cell_type": "markdown",
   "metadata": {},
   "source": [
    "Generiamo un grafico con delle bande di incertenza che includano gli effetti del possibile disallineamento per due delle curve precedenti"
   ]
  },
  {
   "cell_type": "code",
   "execution_count": 84,
   "metadata": {},
   "outputs": [
    {
     "data": {
      "image/png": "[encoded data removed]",
      "text/plain": [
       "<Figure size 432x288 with 1 Axes>"
      ]
     },
     "metadata": {
      "needs_background": "light"
     },
     "output_type": "display_data"
    }
   ],
   "source": [
    "plt.figure(2)\n",
    "plt.xlabel('D [cm]') \n",
    "plt.ylabel('R(d) [Hz]')\n",
    "plt.title(\"Rate as a function of distance d with disalignment\")\n",
    "\n",
    "plt.errorbar(dexp, rateexp , xerr=derr, yerr=rateerr )\n",
    "plt.plot(dexp, rateexp, label= 'exp', color='blue')\n",
    "plt.plot(D, Rated1 , label= 'sim', color='orange')\n",
    "plt.plot(D, Rated1dis, color='orange')\n",
    "plt.fill_between(D,Rated1, Rated1dis, color='orange')\n",
    "plt.legend()\n",
    "plt.show()"
   ]
  },
  {
   "cell_type": "markdown",
   "metadata": {},
   "source": [
    "Studiamo un ulteriore caso particolare, l'efficienza dei due rivelatori è la stessa, e fissato d, vediamo come varia R al variare dell'efficienza:"
   ]
  },
  {
   "cell_type": "code",
   "execution_count": 85,
   "metadata": {},
   "outputs": [],
   "source": [
    "E= np.array([0, 0.05, 0.10, 0.15, 0.22, 0.3, 0.4, 0.50])\n",
    "\n",
    "Ratef1 = np.array([rate(22, Ev, Ev) for Ev in E])\n",
    "Ratef2 = np.array([rate(50, Ev, Ev) for Ev in E])\n",
    "Ratef3 = np.array([rate(0, Ev, Ev) for Ev in E])\n"
   ]
  },
  {
   "cell_type": "code",
   "execution_count": 86,
   "metadata": {},
   "outputs": [
    {
     "data": {
      "image/png": "[encoded data removed]",
      "text/plain": [
       "<Figure size 432x288 with 1 Axes>"
      ]
     },
     "metadata": {
      "needs_background": "light"
     },
     "output_type": "display_data"
    }
   ],
   "source": [
    "plt.figure(3)\n",
    "plt.xlabel('ε ') \n",
    "plt.ylabel('R(ε) [Hz]')\n",
    "plt.title(\"Rate as a function of a common efficiency\")\n",
    "plt.plot(E, Ratef1 , label= 'd=22 cm')\n",
    "plt.plot(E, Ratef2 , label= 'd=50 cm')\n",
    "plt.plot(E, Ratef3 , label= 'overlapped')\n",
    "plt.legend()\n",
    "plt.show()"
   ]
  },
  {
   "cell_type": "markdown",
   "metadata": {},
   "source": [
    "## Micromegas chambers"
   ]
  },
  {
   "cell_type": "markdown",
   "metadata": {},
   "source": [
    "Si vuole ora considerare il caso in cui ci sia anche una camera micromegas posta tra i due scintillatori"
   ]
  },
  {
   "cell_type": "code",
   "execution_count": 7,
   "metadata": {},
   "outputs": [],
   "source": [
    "#definiamo le dimensioni della camera\n",
    "Xmm=2*10/3\n",
    "Ymm=10\n",
    "\n",
    "#definiamo una nuova funzione rate che consideri anche la presenza della camera\n",
    "#chiamiamo con z la distanza dal rivelatore superiore, con posx e posy le distanze della camera \n",
    "#rispetto lo spigolo del rivelatore superiore (come valore di default è considerato il caso della camera centrata)\n",
    "\n",
    "def ratemm(d, z, e1, e2, posx=(X-Xmm)/2, posy=(Y-Ymm)/2, disx=0,  disy=0):\n",
    "    \n",
    "    #definiamo una funzione che calcoli le coordinate di impatto ad una distanza d dal rivelatore superiore\n",
    "    \n",
    "    def imp2(arr,d):\n",
    "        x2=arr[0]-d*np.cos(arr[2])*np.tan(arr[3])\n",
    "        y2=arr[1]-d*np.sin(arr[2])*np.tan(arr[3])\n",
    "        return [x2,y2]\n",
    "    \n",
    "\n",
    "    #costruiamo una matrice con le coordinate d'impatto sul secondo rivelatore\n",
    "\n",
    "    inc2=np.array([imp2(inc1[i,:],d) for i in range(Nmuon)])\n",
    "    \n",
    "    #costruiamo una matrice con le coordinate d'impatto sulla camera\n",
    "    \n",
    "    inc3=np.array([imp2(inc1[i,:],z) for i in range(Nmuon)])\n",
    "    \n",
    "    #costruiamo due array con le probabilità di passaggio per ciascun rivelatore\n",
    "\n",
    "    pass1 = rnd.rand(Nmuon)\n",
    "    pass2 = rnd.rand(Nmuon)\n",
    "\n",
    "    #costruiamo una matrice che verifichi che tutte le 4 condizioni per la rivelazione siano soddisfatte\n",
    "    \n",
    "    count=np.array([pass1[i]<e1 and pass2[i]<e2 and (0+disx)<inc2[i,0]<(X+disx) and (0+disy)<inc2[i,1]<(Y+disy)\n",
    "                    and posx<inc3[i,0]<(posx+Xmm) and posy<inc3[i,1]<(posy+Ymm) for i in range(Nmuon)])\n",
    "\n",
    "    seen=count.sum()\n",
    "    frac=seen/Nmuon\n",
    "    exprate=X*Y/60\n",
    "    rate=exprate*frac\n",
    "    return rate\n",
    "\n"
   ]
  },
  {
   "cell_type": "code",
   "execution_count": 9,
   "metadata": {},
   "outputs": [
    {
     "name": "stdout",
     "output_type": "stream",
     "text": [
      "\n",
      "\n",
      "I muoni rivelati sono:  93088.0 \n",
      "La frazione rivelata è:  0.093088\n",
      "Considerando un rate atteso di 1 muone per cm² al minuto il rate rivelato atteso è: 0.34 Hz\n",
      "\n",
      ": la frazione delle volte in cui i muoni triggerano il sistema ma non passano dalla camera è: 0.5428414275401109\n"
     ]
    }
   ],
   "source": [
    "z=d-13\n",
    "testratem=ratemm(d,z,e1,e2)\n",
    "\n",
    "print(\"\\n\\nI muoni rivelati sono: \", testratem*60/(X*Y)*Nmuon, \"\\nLa frazione rivelata è: \", testratem*60/(X*Y) )\n",
    "print(\"Considerando un rate atteso di 1 muone per cm² al minuto il rate rivelato atteso è: \"+\"{0:.2f}\".format(testratem)+ \" Hz\")\n",
    "print(\"\\n: la frazione delle volte in cui i muoni triggerano il sistema ma non passano dalla camera è:\", (testrate-testratem)/testrate)"
   ]
  },
  {
   "cell_type": "markdown",
   "metadata": {},
   "source": [
    "Nel caso in esame la camera ha una superficie che è la metà dei due scintillatori, conseguentemente il rate stimato è circa la metà del primo calcolato"
   ]
  },
  {
   "cell_type": "markdown",
   "metadata": {},
   "source": [
    "Grafichiamo l'andamento del rate per due scintillatori a venti cm di distanza e posizione della camera variabile "
   ]
  },
  {
   "cell_type": "code",
   "execution_count": 10,
   "metadata": {},
   "outputs": [],
   "source": [
    "h=22\n",
    "\n",
    "Z= np.array([0, 3, 6, 9, 10, 11, 14, 17 ,22]) \n",
    "Rated1mm = np.array([ratemm(h, dis, e1, e2) for dis in Z]) #posizione centrata\n",
    "Rated2mm = np.array([ratemm(h, dis, e1, e2, 0, 0) for dis in Z]) #camera allineata ad uno spigolo dello scintillatore\n"
   ]
  },
  {
   "cell_type": "code",
   "execution_count": 11,
   "metadata": {},
   "outputs": [
    {
     "data": {
      "image/png": "[encoded data removed]",
      "text/plain": [
       "<Figure size 432x288 with 1 Axes>"
      ]
     },
     "metadata": {
      "needs_background": "light"
     },
     "output_type": "display_data"
    }
   ],
   "source": [
    "plt.figure(4)\n",
    "plt.xlabel('z [cm]') \n",
    "plt.ylabel('R(z) [Hz]')\n",
    "plt.title(\"Rate as a function of distance of MM from first scintillator \")\n",
    "plt.plot(Z, Rated1mm , label= 'centered')\n",
    "plt.plot(Z, Rated2mm , label= 'on the edge')\n",
    "plt.legend()\n",
    "plt.show()"
   ]
  },
  {
   "cell_type": "markdown",
   "metadata": {},
   "source": [
    "Qui studiamo la distribuzione angolare dei muoni che vengono rivelati anche dalla camera a distanza diversa."
   ]
  },
  {
   "cell_type": "code",
   "execution_count": 12,
   "metadata": {},
   "outputs": [],
   "source": [
    "def anglesmm(d, z, e1, e2, posx=(X-Xmm)/2, posy=(Y-Ymm)/2, disx=0,  disy=0):\n",
    "    \n",
    "    #definiamo una funzione che calcoli le coordinate di impatto ad una distanza d dal rivelatore superiore\n",
    "    \n",
    "    def imp2(arr,d):\n",
    "        x2=arr[0]-d*np.cos(arr[2])*np.tan(arr[3])\n",
    "        y2=arr[1]-d*np.sin(arr[2])*np.tan(arr[3])\n",
    "        return [x2,y2]\n",
    "    \n",
    "\n",
    "    #costruiamo una matrice con le coordinate d'impatto sul secondo rivelatore\n",
    "\n",
    "    inc2=np.array([imp2(inc1[i,:],d) for i in range(Nmuon)])\n",
    "    \n",
    "    #costruiamo una matrice con le coordinate d'impatto sulla camera\n",
    "    \n",
    "    inc3=np.array([imp2(inc1[i,:],z) for i in range(Nmuon)])\n",
    "    \n",
    "    #costruiamo due array con le probabilità di passaggio per ciascun rivelatore\n",
    "\n",
    "    pass1 = rnd.rand(Nmuon)\n",
    "    pass2 = rnd.rand(Nmuon)\n",
    "\n",
    "    #costruiamo una matrice che verifichi che tutte le 4 condizioni per la rivelazione siano soddisfatte\n",
    "    \n",
    "    count=np.array([pass1[i]<e1 and pass2[i]<e2 and (0+disx)<inc2[i,0]<(X+disx) and (0+disy)<inc2[i,1]<(Y+disy)\n",
    "                    and posx<inc3[i,0]<(posx+Xmm) and posy<inc3[i,1]<(posy+Ymm) for i in range(Nmuon)])\n",
    "    \n",
    "    angles=np.array([inc1[i,3] for i in range(Nmuon) if count[i]])\n",
    "    \n",
    "    return angles    "
   ]
  },
  {
   "cell_type": "code",
   "execution_count": 13,
   "metadata": {
    "scrolled": false
   },
   "outputs": [],
   "source": [
    "ang22=anglesmm(22, 22-13, e1, e2)\n",
    "ang50=anglesmm(50, 50-13, e1, e2)"
   ]
  },
  {
   "cell_type": "code",
   "execution_count": 15,
   "metadata": {},
   "outputs": [
    {
     "name": "stderr",
     "output_type": "stream",
     "text": [
      "<ipython-input-15-2755c342f9d2>:10: UserWarning: FixedFormatter should only be used together with FixedLocator\n",
      "  axis0.set_xticklabels(['{:3.0f}'.format(x * 180/np.pi) for x in axis0.get_xticks()])\n"
     ]
    },
    {
     "data": {
      "text/plain": [
       "[Text(0.0, 0, '  0'),\n",
       " Text(0.1, 0, '  6'),\n",
       " Text(0.2, 0, ' 11'),\n",
       " Text(0.30000000000000004, 0, ' 17'),\n",
       " Text(0.4, 0, ' 23'),\n",
       " Text(0.5, 0, ' 29'),\n",
       " Text(0.6000000000000001, 0, ' 34'),\n",
       " Text(0.7000000000000001, 0, ' 40'),\n",
       " Text(0.8, 0, ' 46')]"
      ]
     },
     "execution_count": 15,
     "metadata": {},
     "output_type": "execute_result"
    },
    {
     "data": {
      "image/png": "[encoded data removed]",
      "text/plain": [
       "<Figure size 432x288 with 1 Axes>"
      ]
     },
     "metadata": {
      "needs_background": "light"
     },
     "output_type": "display_data"
    }
   ],
   "source": [
    "fig0=plt.figure(0)\n",
    "axis0=fig0.add_subplot(111)\n",
    "n, bins, patches = axis0.hist(ang22, bins=20, rwidth=0.9 )\n",
    "axis0.grid(True)\n",
    "y=n.max()\n",
    "axis0.set_xlim([0,0.8])\n",
    "axis0.set_xlabel('Impact Angles (°)')\n",
    "axis0.set_ylabel('Frequency')\n",
    "axis0.set_title('Angles distribution at d=22cm')\n",
    "axis0.set_xticklabels(['{:3.0f}'.format(x * 180/np.pi) for x in axis0.get_xticks()])"
   ]
  },
  {
   "cell_type": "code",
   "execution_count": 16,
   "metadata": {},
   "outputs": [
    {
     "name": "stderr",
     "output_type": "stream",
     "text": [
      "<ipython-input-16-1e38bbef11ba>:10: UserWarning: FixedFormatter should only be used together with FixedLocator\n",
      "  axis0.set_xticklabels(['{:3.0f}'.format(x * 180/np.pi) for x in axis0.get_xticks()])\n"
     ]
    },
    {
     "data": {
      "text/plain": [
       "[Text(0.0, 0, '  0'),\n",
       " Text(0.1, 0, '  6'),\n",
       " Text(0.2, 0, ' 11'),\n",
       " Text(0.30000000000000004, 0, ' 17'),\n",
       " Text(0.4, 0, ' 23'),\n",
       " Text(0.5, 0, ' 29'),\n",
       " Text(0.6000000000000001, 0, ' 34'),\n",
       " Text(0.7000000000000001, 0, ' 40'),\n",
       " Text(0.8, 0, ' 46')]"
      ]
     },
     "execution_count": 16,
     "metadata": {},
     "output_type": "execute_result"
    },
    {
     "data": {
      "image/png": "[encoded data removed]",
      "text/plain": [
       "<Figure size 432x288 with 1 Axes>"
      ]
     },
     "metadata": {
      "needs_background": "light"
     },
     "output_type": "display_data"
    }
   ],
   "source": [
    "fig0=plt.figure(0)\n",
    "axis0=fig0.add_subplot(111)\n",
    "n, bins, patches = axis0.hist(ang50, bins=20, rwidth=0.9 )\n",
    "axis0.grid(True)\n",
    "y=n.max()\n",
    "axis0.set_xlim([0,0.8])\n",
    "axis0.set_xlabel('Impact Angles (°)')\n",
    "axis0.set_ylabel('Frequency')\n",
    "axis0.set_title('Angles distribution at d=50cm')\n",
    "axis0.set_xticklabels(['{:3.0f}'.format(x * 180/np.pi) for x in axis0.get_xticks()])"
   ]
  },
  {
   "cell_type": "code",
   "execution_count": 99,
   "metadata": {},
   "outputs": [
    {
     "name": "stdout",
     "output_type": "stream",
     "text": [
      "[[ 8.28134323  9.72319613  0.          2.38214026  0.85996365]\n",
      " [ 8.11473293  4.3034298   0.          5.8306627   0.91265175]\n",
      " [ 6.82566253  5.56810398  0.          2.35810769  0.66133091]\n",
      " ...\n",
      " [ 7.03433955  5.06787701  0.          1.55546117  0.7285411 ]\n",
      " [ 8.24693304  7.41827659  0.          3.92757206  1.21559563]\n",
      " [ 4.21608785 18.31551962  0.          3.76635212  0.26422755]]\n"
     ]
    }
   ],
   "source": [
    "Nmuon= 3000000\n",
    "X = 10 #Cm\n",
    "Y = 22 #Cm\n",
    "Xmm=10*2/3\n",
    "Ymm=10\n",
    "e1 = 0.74\n",
    "e2 = 0.81\n",
    "\n",
    "\n",
    "#scriviamo la funzione di distribuzione\n",
    "def F(t):\n",
    "     return np.cos(t)*np.cos(t)\n",
    "\n",
    "#cord() genera le coordinate casuali di un evento\n",
    "\n",
    "def cord():\n",
    "    x= rnd.uniform(0, X)\n",
    "    y= rnd.uniform(0, Y)\n",
    "    phi= rnd.uniform(0, 2*np.pi)\n",
    "      #qui generiamo theta\n",
    "    ##per generare theta procediamo nel seguente modo (hit or miss), generiamo theta ed f di theta in modo uniforme \n",
    "    ##nel loro intervallo di definizione,se ftheta è minore di Ftheta ovvero valore ottenuto da formula con theta \n",
    "    ##generato casualmente allora prendiamo theta altrimenti rifacciamo tutto\n",
    "    theta= rnd.uniform(0, np.pi*0.5)\n",
    "    ftheta= rnd.uniform(0,1)\n",
    "    while ftheta > F(theta):\n",
    "        theta= rnd.uniform(0, np.pi*0.5)\n",
    "        ftheta= rnd.uniform(0, 1)\n",
    "    cord = np.array( [x,y,0, phi, theta] )\n",
    "    return cord \n",
    "\n",
    "\n",
    "\n",
    "#generiamo gli Nmuon incidenti\n",
    "\n",
    "inc1=np.array([cord() for i in range(Nmuon) ]) \n",
    "print(inc1)"
   ]
  },
  {
   "cell_type": "code",
   "execution_count": 100,
   "metadata": {},
   "outputs": [],
   "source": [
    "#definiamo una nuova funzione che restituisca l'angolo di impatto rispetto il piano effettivamente osservato dalla camera\n",
    "#bisogna tenere in conto che la camera ricostruisce l'angolo tramite l'arcotg\n",
    "def cam_angles(d, alpha, e1, e2):\n",
    "    \n",
    "    #definiamo una funzione che calcoli le coordinate di impatto ad una distanza d dal rivelatore superiore\n",
    "    #nota che stiamo condiderando un sitema con origine nello spigolo dello scintillatore inferiore !!! la quota della camera è fissata a 13 cm\n",
    "    \n",
    "    def imp2(arr,d):\n",
    "        x2=arr[0]+d*np.cos(arr[3])*np.tan(arr[4])\n",
    "        y2=arr[1]+d*np.sin(arr[3])*np.tan(arr[4])\n",
    "        return [x2,y2,d]\n",
    "    \n",
    "\n",
    "    #costruiamo una matrice con le coordinate d'impatto sul secondo rivelatore\n",
    "\n",
    "    inc2=np.array([imp2(inc1[i,:],d) for i in range(Nmuon)])\n",
    "    \n",
    "    #definiamo una funzione che trasformi i punti nelle coordinate nel sitema della camera inclinata di un angolo alpha con origine nello spigolo della stessa\n",
    "    def coor_incl(arr, alpha):\n",
    "        x3=(arr[0])*np.cos(alpha)-(arr[2]-13)*np.sin(alpha)\n",
    "        z3=(arr[0])*np.sin(alpha)+(arr[2]-13)*np.cos(alpha)\n",
    "        y3=(arr[1]-6)\n",
    "        return[x3,y3,z3]\n",
    "    \n",
    "    #calcoliamo le coordinate dei due punti nelle nuove coordinate:\n",
    "    \n",
    "    punto_1=np.array([coor_incl(inc1[i,:],alpha) for i in range(Nmuon)])\n",
    "    punto_2=np.array([coor_incl(inc2[i,:],alpha) for i in range(Nmuon)])\n",
    "    \n",
    "    \n",
    "    #definiamo una funzione che dati due punti calcoli la loro intersezione con il piano z=0\n",
    "    \n",
    "    def cam_point(punto1,punto2):\n",
    "        t=punto1[2]/(punto1[2]-punto2[2])\n",
    "        x=punto1[0]+(punto2[0]-punto1[0])*t\n",
    "        y=punto1[1]+(punto2[1]-punto1[1])*t\n",
    "        return [x,y]\n",
    "    \n",
    "    #calcoliamo i punti di impatto\n",
    "    \n",
    "    impact_cam=np.array([cam_point(punto_1[i,:],punto_2[i,:]) for i in range(Nmuon)])\n",
    "    \n",
    "    \n",
    "\n",
    "    #definiamo la funzione che restituisca gli angoli nel sistema della camera:\n",
    "    def cam_angle(punto1,punto2):\n",
    "        a=np.sqrt((punto2[0]-punto1[0])**2+(punto2[1]-punto1[1])**2)\n",
    "        phi=np.arctan((punto2[1]-punto1[1])/(punto2[0]-punto1[0]))\n",
    "        theta=np.arctan(np.cos(phi)*a/np.abs(punto2[2]-punto1[2]))\n",
    "        return theta\n",
    "    \n",
    "    impact_angle=np.array([cam_angle(punto_1[i,:],punto_2[i,:]) for i in range(Nmuon)])\n",
    "    \n",
    "    \n",
    "    #costruiamo due array con le probabilità di passaggio per ciascun rivelatore\n",
    "\n",
    "    pass1 = rnd.rand(Nmuon)\n",
    "    pass2 = rnd.rand(Nmuon)\n",
    "    \n",
    "        \n",
    "    #costruiamo una matrice che verifichi che tutte le condizioni per la rivelazione siano soddisfatte\n",
    "    \n",
    "    count=np.array([pass1[i]<e1 and pass2[i]<e2 and (0)<inc2[i,0]<(X) and (0)<inc2[i,1]<(Y)\n",
    "                    and 0<impact_cam[i,0]<Xmm and 0<impact_cam[i,0]<Ymm for i in range(Nmuon)])\n",
    "    \n",
    " \n",
    "    \n",
    "    recorded_angles=np.array([impact_angle[i] for i in range(Nmuon) if count[i]])\n",
    "    return recorded_angles   "
   ]
  },
  {
   "cell_type": "code",
   "execution_count": 101,
   "metadata": {},
   "outputs": [],
   "source": [
    "recorded_angles=cam_angles(50, 20*np.pi/180, e1, e2 )"
   ]
  },
  {
   "cell_type": "code",
   "execution_count": 109,
   "metadata": {},
   "outputs": [
    {
     "name": "stderr",
     "output_type": "stream",
     "text": [
      "<ipython-input-109-2c752ea22338>:9: UserWarning: FixedFormatter should only be used together with FixedLocator\n",
      "  axis0.set_xticklabels(['{:3.0f}'.format(x * 180/np.pi) for x in axis0.get_xticks()])\n"
     ]
    },
    {
     "data": {
      "text/plain": [
       "[Text(0.1, 0, '  6'),\n",
       " Text(0.15000000000000002, 0, '  9'),\n",
       " Text(0.2, 0, ' 11'),\n",
       " Text(0.25, 0, ' 14'),\n",
       " Text(0.30000000000000004, 0, ' 17'),\n",
       " Text(0.35, 0, ' 20'),\n",
       " Text(0.4, 0, ' 23'),\n",
       " Text(0.45000000000000007, 0, ' 26'),\n",
       " Text(0.5, 0, ' 29'),\n",
       " Text(0.55, 0, ' 32'),\n",
       " Text(0.6, 0, ' 34')]"
      ]
     },
     "execution_count": 109,
     "metadata": {},
     "output_type": "execute_result"
    },
    {
     "data": {
      "image/png": "[encoded data removed]",
      "text/plain": [
       "<Figure size 432x288 with 1 Axes>"
      ]
     },
     "metadata": {
      "needs_background": "light"
     },
     "output_type": "display_data"
    }
   ],
   "source": [
    "fig0=plt.figure(0)\n",
    "axis0=fig0.add_subplot(111)\n",
    "axis0.hist(recorded_angles,range=(8*np.pi/180,31*np.pi/180), bins=100)\n",
    "axis0.grid(True)\n",
    "y=n.max()\n",
    "axis0.set_xlabel('Impact Angles (°)')\n",
    "axis0.set_ylabel('Frequency')\n",
    "axis0.set_title('Angles distribution expected for 20° inclined camera')\n",
    "axis0.set_xticklabels(['{:3.0f}'.format(x * 180/np.pi) for x in axis0.get_xticks()])\n"
   ]
  },
  {
   "cell_type": "code",
   "execution_count": 103,
   "metadata": {},
   "outputs": [],
   "source": [
    "recorded_angles2=cam_angles(50, 38*np.pi/180, e1, e2 )"
   ]
  },
  {
   "cell_type": "code",
   "execution_count": 110,
   "metadata": {},
   "outputs": [
    {
     "name": "stderr",
     "output_type": "stream",
     "text": [
      "<ipython-input-110-7e06cd909b0e>:9: UserWarning: FixedFormatter should only be used together with FixedLocator\n",
      "  axis0.set_xticklabels(['{:3.0f}'.format(x * 180/np.pi) for x in axis0.get_xticks()])\n"
     ]
    },
    {
     "data": {
      "text/plain": [
       "[Text(0.30000000000000004, 0, ' 17'),\n",
       " Text(0.4, 0, ' 23'),\n",
       " Text(0.5, 0, ' 29'),\n",
       " Text(0.6000000000000001, 0, ' 34'),\n",
       " Text(0.7000000000000001, 0, ' 40'),\n",
       " Text(0.8, 0, ' 46'),\n",
       " Text(0.9000000000000001, 0, ' 52')]"
      ]
     },
     "execution_count": 110,
     "metadata": {},
     "output_type": "execute_result"
    },
    {
     "data": {
      "image/png": "[encoded data removed]",
      "text/plain": [
       "<Figure size 432x288 with 1 Axes>"
      ]
     },
     "metadata": {
      "needs_background": "light"
     },
     "output_type": "display_data"
    }
   ],
   "source": [
    "fig0=plt.figure(0)\n",
    "axis0=fig0.add_subplot(111)\n",
    "axis0.hist(recorded_angles2, range=(20*np.pi/180,50*np.pi/180), bins=100)\n",
    "axis0.grid(True)\n",
    "y=n.max()\n",
    "axis0.set_xlabel('Impact Angles (°)')\n",
    "axis0.set_ylabel('Frequency')\n",
    "axis0.set_title('Angles distribution expected for 40° inclined camera')\n",
    "axis0.set_xticklabels(['{:3.0f}'.format(x * 180/np.pi) for x in axis0.get_xticks()])\n"
   ]
  },
  {
   "cell_type": "code",
   "execution_count": null,
   "metadata": {},
   "outputs": [],
   "source": []
  }
 ],
 "metadata": {
  "kernelspec": {
   "display_name": "Python 3",
   "language": "python",
   "name": "python3"
  },
  "language_info": {
   "codemirror_mode": {
    "name": "ipython",
    "version": 3
   },
   "file_extension": ".py",
   "mimetype": "text/x-python",
   "name": "python",
   "nbconvert_exporter": "python",
   "pygments_lexer": "ipython3",
   "version": "3.8.5"
  }
 },
 "nbformat": 4,
 "nbformat_minor": 2
}
